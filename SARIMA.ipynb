{
 "cells": [
  {
   "cell_type": "code",
   "execution_count": null,
   "metadata": {},
   "outputs": [],
   "source": [
    "result = adfuller(site_df)\n",
    "print('ADF Statistic: %f' % result[0])\n",
    "print('p-value: %f' % result[1])"
   ]
  },
  {
   "cell_type": "code",
   "execution_count": null,
   "metadata": {},
   "outputs": [],
   "source": [
    "data_diff = site_df.diff().dropna()\n",
    "\n",
    "fig, (ax1, ax2) = plt.subplots(2, 1, figsize=(12, 8))\n",
    "plot_acf(data_diff, ax=ax1)\n",
    "plot_pacf(data_diff, ax=ax2)\n",
    "plt.show()"
   ]
  },
  {
   "cell_type": "code",
   "execution_count": null,
   "metadata": {},
   "outputs": [],
   "source": [
    "\n",
    "p, d, q = 3, 0, 1\n",
    "P, D, Q, s = 1, 1, 1, 24\n",
    "\n",
    "model = SARIMAX(site_df, order=(p, d, q), seasonal_order=(P, D, Q, s))\n",
    "\n",
    "results = model.fit(disp=False)\n",
    "\n",
    "print(results.summary())\n",
    "\n",
    "\n",
    "forecast = results.get_forecast(steps=100)\n",
    "forecast_df = forecast.summary_frame(alpha=0.05)\n",
    "\n",
    "\n",
    "plt.figure(figsize=(15, 7))\n",
    "plt.plot(site_df, label='Original Data')\n",
    "plt.plot(forecast_df['mean'], color='red', label='Forecast')\n",
    "plt.fill_between(forecast_df.index, forecast_df['mean_ci_lower'], forecast_df['mean_ci_upper'], color='pink', alpha=0.3, label='95% Confidence Interval')\n",
    "plt.title('SARIMA Forecast of NO2 Levels')\n",
    "plt.xlabel('Date Time')\n",
    "plt.ylabel('NO2 Concentration (µg/m³)')\n",
    "plt.legend()\n",
    "plt.grid(True)\n",
    "plt.show()\n",
    "\n",
    "results.plot_diagnostics(figsize=(15, 12))\n",
    "plt.show()"
   ]
  }
 ],
 "metadata": {
  "language_info": {
   "name": "python"
  }
 },
 "nbformat": 4,
 "nbformat_minor": 2
}
